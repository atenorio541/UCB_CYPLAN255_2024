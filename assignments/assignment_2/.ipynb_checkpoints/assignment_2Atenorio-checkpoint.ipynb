{
 "cells": [
  {
   "cell_type": "markdown",
   "id": "f96bdfc7",
   "metadata": {},
   "source": [
    "# Assignment 2 | Programming Logic\n",
    "\n",
    "Reminder: in all of the assignments this semester, the answer is not the only consideration, but also how you get to it. It's OK (suggested even!) to use the internet for help. But you _should_ be able to answer all of these questions using only the programming techniques you have learned in class and from the readings.\n",
    "\n",
    "A few keys for success:\n",
    "- Avoid manual data entry\n",
    "- Emphasize logic and clarity\n",
    "- Use comments, docstrings, and descriptive variable names\n",
    "- In general, less code is better. But if more lines of code makes your program easier to read or understand what its doing, then go for it."
   ]
  },
  {
   "cell_type": "markdown",
   "id": "078a9000",
   "metadata": {},
   "source": [
    "## Problem 1 \n",
    "Write a Python program to count the number of even and odd numbers from a list of numbers. Test your code by running it on a list of integers from 1 to 9. No need to make this a function unless you want to."
   ]
  },
  {
   "cell_type": "code",
   "execution_count": 10,
   "id": "8eb937c5",
   "metadata": {},
   "outputs": [
    {
     "name": "stdout",
     "output_type": "stream",
     "text": [
      "Number of even numbers: 4\n",
      "Number of odd numbers: 5\n"
     ]
    }
   ],
   "source": [
    "# List of numbers from 1 to 9\n",
    "numbers = [1, 2, 3, 4, 5, 6, 7, 8, 9]\n",
    "\n",
    "# Initialize varibles to keep track of the amount of odd/even numbers\n",
    "even_count = 0\n",
    "odd_count = 0\n",
    "\n",
    "# modulo operator '%' checks if number is divisable by 2\n",
    "for num in numbers:\n",
    "    if num % 2 == 0:\n",
    "        even_count += 1\n",
    "    else:\n",
    "        odd_count += 1\n",
    "\n",
    "\n",
    "print(\"Number of even numbers:\", even_count)\n",
    "print(\"Number of odd numbers:\", odd_count)"
   ]
  },
  {
   "cell_type": "markdown",
   "id": "db9df1a9",
   "metadata": {
    "collapsed": true
   },
   "source": [
    "## Problem 2\n",
    "Write a Python function that takes a list of numbers and returns a list containing only the even numbers from the original list. Test your function by running it on a list of integers from 1 to 9."
   ]
  },
  {
   "cell_type": "code",
   "execution_count": 11,
   "id": "45fcfd00",
   "metadata": {},
   "outputs": [
    {
     "name": "stdout",
     "output_type": "stream",
     "text": [
      "Even numbers: [2, 4, 6, 8]\n"
     ]
    }
   ],
   "source": [
    "def get_even_numbers(input_list):\n",
    "    \"\"\"\n",
    "    Function to filter even numbers from a list.\n",
    "    \n",
    "    Args:\n",
    "    input_list (list): List of numbers.\n",
    "    \n",
    "    Returns:\n",
    "    list: List containing only the even numbers from the original list.\n",
    "    \"\"\"\n",
    "\n",
    "    even_numbers = []\n",
    "    \n",
    " \n",
    "    for num in input_list:\n",
    "        if num % 2 == 0:\n",
    "            even_numbers.append(num)\n",
    "    \n",
    " \n",
    "    return even_numbers\n",
    "\n",
    "\n",
    "numbers = [1, 2, 3, 4, 5, 6, 7, 8, 9]\n",
    "even_numbers = get_even_numbers(numbers)\n",
    "print(\"Even numbers:\", even_numbers)"
   ]
  },
  {
   "cell_type": "markdown",
   "id": "6a6f4ef0",
   "metadata": {},
   "source": [
    "## Problem 3\n",
    "\n",
    "1. Create a function that accepts a list of integers as an argument and returns a list of floats which equals each number as a fraction of the sum of all the items in the original list.\n",
    "\n",
    "2. Next, create a second function which is the same as the first, but limit each number in the output list to two decimals.\n",
    "\n",
    "3. Create another function which builds on the previous one by allowing a \"user\" pass in an argument that defines the number of decimal places to use in the output list.\n",
    "\n",
    "4. Test each of these functions with a list of integers"
   ]
  },
  {
   "cell_type": "code",
   "execution_count": 18,
   "id": "6856ee58",
   "metadata": {},
   "outputs": [
    {
     "name": "stdout",
     "output_type": "stream",
     "text": [
      "Original List: [1, 2, 3, 4, 5]\n",
      "Function 1 Output: [0.06666666666666667, 0.13333333333333333, 0.2, 0.26666666666666666, 0.3333333333333333]\n",
      "Function 2 Output: [0.07, 0.13, 0.2, 0.27, 0.33]\n",
      "Function 3 Output with 3 Decimal Places: [0.067, 0.133, 0.2, 0.267, 0.333]\n"
     ]
    }
   ],
   "source": [
    "def calculate_fraction_list(input_list):\n",
    "    total_sum = sum(input_list)\n",
    "    return [float(num) / total_sum for num in input_list]\n",
    "\n",
    "def calculate_fraction_list_with_limit(input_list):\n",
    "    fraction_list = calculate_fraction_list(input_list)\n",
    "    return [round(num, 2) for num in fraction_list]\n",
    "\n",
    "def calculate_fraction_list_with_precision(input_list, precision):\n",
    "    fraction_list = calculate_fraction_list(input_list)\n",
    "    return [round(num, precision) for num in fraction_list]\n",
    "\n",
    "# Testing the function: \n",
    "\n",
    "input_list = [1, 2, 3, 4, 5]\n",
    "print(\"Original List:\", input_list)\n",
    "\n",
    "output_list_1 = calculate_fraction_list(input_list)\n",
    "print(\"Function 1 Output:\", output_list_1)\n",
    "\n",
    "output_list_2 = calculate_fraction_list_with_limit(input_list)\n",
    "print(\"Function 2 Output:\", output_list_2)\n",
    "\n",
    "precision = 3\n",
    "output_list_3 = calculate_fraction_list_with_precision(input_list, precision)\n",
    "print(f\"Function 3 Output with {precision} Decimal Places:\", output_list_3)\n"
   ]
  },
  {
   "cell_type": "markdown",
   "id": "17e43098",
   "metadata": {},
   "source": [
    "## Problem 4\n",
    "A prime number is any whole number greater than 1 that has no positive divisors besides 1 and itself. In other words, a prime number must be:\n",
    "1. an integer\n",
    "2. greater than 1\n",
    "3. divisible only by 1 and itself.\n",
    "\n",
    "Write a function is_prime(n) that accepts an argument `n` and returns `True` (boolean) if `n` is a prime number and `False` if n is not prime. For example, `is_prime(11)` should return `True` and `is_prime(12)` should return `False`.\n"
   ]
  },
  {
   "cell_type": "code",
   "execution_count": 32,
   "id": "7b43bc6c",
   "metadata": {},
   "outputs": [],
   "source": [
    "def is_prime(n):\n",
    "    # Verifying if 'n' is less than or equal to 1.\n",
    "    if n <= 1:\n",
    "        return False  # Numbers less than or equal to 1 are not prime\n",
    "    \n",
    "    # Checking for divisibility by numbers from 2 to the square root of n using\n",
    "    for i in range(2, int(n**0.5) + 1):\n",
    "        if n % i == 0:\n",
    "            return False  # If n is divisible by any number in this range, it's not prime\n",
    "    \n",
    "    return True  # If n is not divisible by any number in the range, it's prime\n"
   ]
  },
  {
   "cell_type": "code",
   "execution_count": 33,
   "id": "6eb7e361",
   "metadata": {},
   "outputs": [
    {
     "name": "stdout",
     "output_type": "stream",
     "text": [
      "True\n",
      "False\n"
     ]
    }
   ],
   "source": [
    "# Testing \n",
    "print(is_prime(11))  # Output: True\n",
    "print(is_prime(12))  # Output: False"
   ]
  },
  {
   "cell_type": "markdown",
   "id": "e556b42f",
   "metadata": {},
   "source": [
    "## Problem 5"
   ]
  },
  {
   "cell_type": "markdown",
   "id": "fd5f4463",
   "metadata": {},
   "source": [
    "1. Create a class called `Housing`, and add the following attributes to it:\n",
    "  - type\n",
    "  - area\n",
    "  - number of bedrooms\n",
    "  - value (price)\n",
    "  - year built.\n",
    "2. Create two instances of your class and populate their attributes (make 'em up)\n",
    "3. Create a method called `rent()` that calculates the estimated monthly rent for each house (assume that monthly rent is 0.4% of the value of the house)\n",
    "4. Print the rent for both instances."
   ]
  },
  {
   "cell_type": "code",
   "execution_count": 35,
   "id": "efa713df",
   "metadata": {},
   "outputs": [
    {
     "name": "stdout",
     "output_type": "stream",
     "text": [
      "Estimated Monthly Rent for House 1: 1000.0\n",
      "Estimated Monthly Rent for House 2: 1600.0\n"
     ]
    }
   ],
   "source": [
    "class Housing:\n",
    "    def __init__(self, house_type, area, num_bedrooms, value, year_built):\n",
    "        self.type = house_type\n",
    "        self.area = area\n",
    "        self.num_bedrooms = num_bedrooms\n",
    "        self.value = value\n",
    "        self.year_built = year_built\n",
    "    \n",
    "    def rent(self):\n",
    "        # Calculatation of estimated monthly rent (0.4% of the value of the house)\n",
    "        monthly_rent = 0.004 * self.value\n",
    "        return monthly_rent\n",
    "\n",
    "#Instance 1: \n",
    "\n",
    "house1 = Housing(house_type=\"Apartment\", area=1200, num_bedrooms=2, value=250000, year_built=2005)\n",
    "\n",
    "#Instance 2: \n",
    "\n",
    "house2 = Housing(house_type=\"House\", area=2000, num_bedrooms=3, value=400000, year_built=2010)\n",
    "\n",
    "# Print the rent for both instances\n",
    "print(\"Estimated Monthly Rent for House 1:\", house1.rent())\n",
    "print(\"Estimated Monthly Rent for House 2:\", house2.rent())"
   ]
  },
  {
   "cell_type": "code",
   "execution_count": null,
   "id": "f1fa6540",
   "metadata": {},
   "outputs": [],
   "source": []
  }
 ],
 "metadata": {
  "kernelspec": {
   "display_name": "Python 3 (ipykernel)",
   "language": "python",
   "name": "python3"
  },
  "language_info": {
   "codemirror_mode": {
    "name": "ipython",
    "version": 3
   },
   "file_extension": ".py",
   "mimetype": "text/x-python",
   "name": "python",
   "nbconvert_exporter": "python",
   "pygments_lexer": "ipython3",
   "version": "3.11.5"
  },
  "toc": {
   "base_numbering": 1,
   "nav_menu": {},
   "number_sections": false,
   "sideBar": false,
   "skip_h1_title": true,
   "title_cell": "Table of Contents",
   "title_sidebar": "Contents",
   "toc_cell": false,
   "toc_position": {},
   "toc_section_display": true,
   "toc_window_display": false
  }
 },
 "nbformat": 4,
 "nbformat_minor": 5
}
