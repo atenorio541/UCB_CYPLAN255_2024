{
 "cells": [
  {
   "cell_type": "markdown",
   "metadata": {},
   "source": [
    "REMEMBER: FIRST CREATE A COPY OF THIS FILE WITH A UNIQUE NAME AND DO YOUR WORK THERE. AND MAKE SURE YOU COMMIT YOUR CHANGES TO THE `hw3_submissions` BRANCH."
   ]
  },
  {
   "cell_type": "markdown",
   "metadata": {},
   "source": [
    "# Assignment 3 | Cleaning and Exploring Data with Pandas\n",
    "\n"
   ]
  },
  {
   "cell_type": "markdown",
   "metadata": {},
   "source": [
    "<img src=\"data/scoreCard.jpg\" width=250>\n",
    "\n",
    "In this assignment, you will investigate restaurant food safety scores for restaurants in San Francisco. Above is a sample score card for a restaurant. The scores and violation information have been made available by the San Francisco Department of Public Health. "
   ]
  },
  {
   "cell_type": "markdown",
   "metadata": {},
   "source": [
    "## Loading Food Safety Data\n",
    "\n",
    "\n",
    "There are 2 files in the data directory:\n",
    "1. business.csv containing food establishments in San Francisco\n",
    "1. inspections.csv containing retaurant inspections records\n",
    "\n",
    "Let's start by loading them into Pandas dataframes.  One of the files, business.csv, has encoding (ISO-8859-1), so you will need to account for that when reading it."
   ]
  },
  {
   "cell_type": "markdown",
   "metadata": {},
   "source": [
    "### Question 1\n",
    "\n",
    "#### Question 1a\n",
    "Read the two files noted above into two pandas dataframes named `bus` and `ins`, respectively. Print the first 5 rows of each to inspect them.\n"
   ]
  },
  {
   "cell_type": "code",
   "execution_count": 2,
   "metadata": {},
   "outputs": [],
   "source": [
    "import pandas as pd"
   ]
  },
  {
   "cell_type": "code",
   "execution_count": 3,
   "metadata": {
    "tags": [
     "solution"
    ]
   },
   "outputs": [],
   "source": [
    "bus = pd.read_csv('data/businesses.csv', encoding='ISO-8859-1')\n",
    "ins = pd.read_csv('data/inspections.csv')"
   ]
  },
  {
   "cell_type": "code",
   "execution_count": 4,
   "metadata": {},
   "outputs": [
    {
     "data": {
      "text/html": [
       "<div>\n",
       "<style scoped>\n",
       "    .dataframe tbody tr th:only-of-type {\n",
       "        vertical-align: middle;\n",
       "    }\n",
       "\n",
       "    .dataframe tbody tr th {\n",
       "        vertical-align: top;\n",
       "    }\n",
       "\n",
       "    .dataframe thead th {\n",
       "        text-align: right;\n",
       "    }\n",
       "</style>\n",
       "<table border=\"1\" class=\"dataframe\">\n",
       "  <thead>\n",
       "    <tr style=\"text-align: right;\">\n",
       "      <th></th>\n",
       "      <th>business_id</th>\n",
       "      <th>name</th>\n",
       "      <th>address</th>\n",
       "      <th>city</th>\n",
       "      <th>state</th>\n",
       "      <th>postal_code</th>\n",
       "      <th>latitude</th>\n",
       "      <th>longitude</th>\n",
       "      <th>phone_number</th>\n",
       "    </tr>\n",
       "  </thead>\n",
       "  <tbody>\n",
       "    <tr>\n",
       "      <th>0</th>\n",
       "      <td>10</td>\n",
       "      <td>TIRAMISU KITCHEN</td>\n",
       "      <td>033 BELDEN PL</td>\n",
       "      <td>San Francisco</td>\n",
       "      <td>CA</td>\n",
       "      <td>94104</td>\n",
       "      <td>37.791116</td>\n",
       "      <td>-122.403816</td>\n",
       "      <td>+14154217044</td>\n",
       "    </tr>\n",
       "    <tr>\n",
       "      <th>1</th>\n",
       "      <td>19</td>\n",
       "      <td>NRGIZE LIFESTYLE CAFE</td>\n",
       "      <td>1200 VAN NESS AVE, 3RD FLOOR</td>\n",
       "      <td>San Francisco</td>\n",
       "      <td>CA</td>\n",
       "      <td>94109</td>\n",
       "      <td>37.786848</td>\n",
       "      <td>-122.421547</td>\n",
       "      <td>+14157763262</td>\n",
       "    </tr>\n",
       "    <tr>\n",
       "      <th>2</th>\n",
       "      <td>24</td>\n",
       "      <td>OMNI S.F. HOTEL - 2ND FLOOR PANTRY</td>\n",
       "      <td>500 CALIFORNIA ST, 2ND  FLOOR</td>\n",
       "      <td>San Francisco</td>\n",
       "      <td>CA</td>\n",
       "      <td>94104</td>\n",
       "      <td>37.792888</td>\n",
       "      <td>-122.403135</td>\n",
       "      <td>+14156779494</td>\n",
       "    </tr>\n",
       "    <tr>\n",
       "      <th>3</th>\n",
       "      <td>31</td>\n",
       "      <td>NORMAN'S ICE CREAM AND FREEZES</td>\n",
       "      <td>2801 LEAVENWORTH ST</td>\n",
       "      <td>San Francisco</td>\n",
       "      <td>CA</td>\n",
       "      <td>94133</td>\n",
       "      <td>37.807155</td>\n",
       "      <td>-122.419004</td>\n",
       "      <td>NaN</td>\n",
       "    </tr>\n",
       "    <tr>\n",
       "      <th>4</th>\n",
       "      <td>45</td>\n",
       "      <td>CHARLIE'S DELI CAFE</td>\n",
       "      <td>3202 FOLSOM ST</td>\n",
       "      <td>San Francisco</td>\n",
       "      <td>CA</td>\n",
       "      <td>94110</td>\n",
       "      <td>37.747114</td>\n",
       "      <td>-122.413641</td>\n",
       "      <td>+14156415051</td>\n",
       "    </tr>\n",
       "  </tbody>\n",
       "</table>\n",
       "</div>"
      ],
      "text/plain": [
       "   business_id                                name  \\\n",
       "0           10                    TIRAMISU KITCHEN   \n",
       "1           19               NRGIZE LIFESTYLE CAFE   \n",
       "2           24  OMNI S.F. HOTEL - 2ND FLOOR PANTRY   \n",
       "3           31      NORMAN'S ICE CREAM AND FREEZES   \n",
       "4           45                 CHARLIE'S DELI CAFE   \n",
       "\n",
       "                         address           city state postal_code   latitude  \\\n",
       "0                  033 BELDEN PL  San Francisco    CA       94104  37.791116   \n",
       "1   1200 VAN NESS AVE, 3RD FLOOR  San Francisco    CA       94109  37.786848   \n",
       "2  500 CALIFORNIA ST, 2ND  FLOOR  San Francisco    CA       94104  37.792888   \n",
       "3           2801 LEAVENWORTH ST   San Francisco    CA       94133  37.807155   \n",
       "4                3202 FOLSOM ST   San Francisco    CA       94110  37.747114   \n",
       "\n",
       "    longitude  phone_number  \n",
       "0 -122.403816  +14154217044  \n",
       "1 -122.421547  +14157763262  \n",
       "2 -122.403135  +14156779494  \n",
       "3 -122.419004           NaN  \n",
       "4 -122.413641  +14156415051  "
      ]
     },
     "execution_count": 4,
     "metadata": {},
     "output_type": "execute_result"
    }
   ],
   "source": [
    "bus.head()"
   ]
  },
  {
   "cell_type": "code",
   "execution_count": 5,
   "metadata": {},
   "outputs": [
    {
     "data": {
      "text/html": [
       "<div>\n",
       "<style scoped>\n",
       "    .dataframe tbody tr th:only-of-type {\n",
       "        vertical-align: middle;\n",
       "    }\n",
       "\n",
       "    .dataframe tbody tr th {\n",
       "        vertical-align: top;\n",
       "    }\n",
       "\n",
       "    .dataframe thead th {\n",
       "        text-align: right;\n",
       "    }\n",
       "</style>\n",
       "<table border=\"1\" class=\"dataframe\">\n",
       "  <thead>\n",
       "    <tr style=\"text-align: right;\">\n",
       "      <th></th>\n",
       "      <th>business_id</th>\n",
       "      <th>score</th>\n",
       "      <th>date</th>\n",
       "      <th>type</th>\n",
       "    </tr>\n",
       "  </thead>\n",
       "  <tbody>\n",
       "    <tr>\n",
       "      <th>0</th>\n",
       "      <td>10</td>\n",
       "      <td>82</td>\n",
       "      <td>20160503</td>\n",
       "      <td>routine</td>\n",
       "    </tr>\n",
       "    <tr>\n",
       "      <th>1</th>\n",
       "      <td>10</td>\n",
       "      <td>94</td>\n",
       "      <td>20140729</td>\n",
       "      <td>routine</td>\n",
       "    </tr>\n",
       "    <tr>\n",
       "      <th>2</th>\n",
       "      <td>10</td>\n",
       "      <td>92</td>\n",
       "      <td>20140114</td>\n",
       "      <td>routine</td>\n",
       "    </tr>\n",
       "    <tr>\n",
       "      <th>3</th>\n",
       "      <td>19</td>\n",
       "      <td>94</td>\n",
       "      <td>20160513</td>\n",
       "      <td>routine</td>\n",
       "    </tr>\n",
       "    <tr>\n",
       "      <th>4</th>\n",
       "      <td>19</td>\n",
       "      <td>94</td>\n",
       "      <td>20141110</td>\n",
       "      <td>routine</td>\n",
       "    </tr>\n",
       "  </tbody>\n",
       "</table>\n",
       "</div>"
      ],
      "text/plain": [
       "   business_id  score      date     type\n",
       "0           10     82  20160503  routine\n",
       "1           10     94  20140729  routine\n",
       "2           10     92  20140114  routine\n",
       "3           19     94  20160513  routine\n",
       "4           19     94  20141110  routine"
      ]
     },
     "execution_count": 5,
     "metadata": {},
     "output_type": "execute_result"
    }
   ],
   "source": [
    "ins.head()"
   ]
  },
  {
   "cell_type": "markdown",
   "metadata": {},
   "source": [
    "## Examining the Business data\n",
    "\n",
    "From its name alone, we expect the `businesses.csv` file to contain information about the restaurants. Let's investigate this dataset."
   ]
  },
  {
   "cell_type": "markdown",
   "metadata": {},
   "source": [
    "### Question 2\n",
    "\n",
    "#### Question 2a: How many records are there?"
   ]
  },
  {
   "cell_type": "code",
   "execution_count": 6,
   "metadata": {
    "scrolled": true,
    "tags": [
     "solution"
    ]
   },
   "outputs": [
    {
     "name": "stdout",
     "output_type": "stream",
     "text": [
      "Number of records in the 'bus' DataFrame: 6315\n"
     ]
    }
   ],
   "source": [
    "#using shapeattribute to find number of records \n",
    "\n",
    "num_records = bus.shape[0]\n",
    "\n",
    "print(\"Number of records in the 'bus' DataFrame:\", num_records)"
   ]
  },
  {
   "cell_type": "markdown",
   "metadata": {},
   "source": [
    "#### Question 2b: How many unique business IDs are there?  "
   ]
  },
  {
   "cell_type": "code",
   "execution_count": 9,
   "metadata": {},
   "outputs": [
    {
     "name": "stdout",
     "output_type": "stream",
     "text": [
      "Number of unique business IDs in the 'bus' DataFrame: 6315\n"
     ]
    }
   ],
   "source": [
    "num_unique_ids = bus['business_id'].nunique()\n",
    "\n",
    "print(\"Number of unique business IDs in the 'bus' DataFrame:\", num_unique_ids)"
   ]
  },
  {
   "cell_type": "markdown",
   "metadata": {},
   "source": [
    "#### Question 2c: What are the 5 most common businesses by name, and how many are there in San Francisco?"
   ]
  },
  {
   "cell_type": "code",
   "execution_count": 10,
   "metadata": {},
   "outputs": [],
   "source": [
    "sf_bus = bus[bus['city'] == 'San Francisco']"
   ]
  },
  {
   "cell_type": "code",
   "execution_count": 11,
   "metadata": {},
   "outputs": [],
   "source": [
    "top_5_common = sf_bus['name'].value_counts().head()"
   ]
  },
  {
   "cell_type": "code",
   "execution_count": 12,
   "metadata": {},
   "outputs": [
    {
     "name": "stdout",
     "output_type": "stream",
     "text": [
      "The 5 most common businesses by name in San Francisco:\n",
      "name\n",
      "STARBUCKS COFFEE              72\n",
      "PEET'S COFFEE & TEA           24\n",
      "MCDONALDS                     12\n",
      "SAN FRANCISCO SOUP COMPANY    11\n",
      "WALGREENS                     11\n",
      "Name: count, dtype: int64\n"
     ]
    }
   ],
   "source": [
    "print(\"The 5 most common businesses by name in San Francisco:\")\n",
    "print(top_5_common)"
   ]
  },
  {
   "cell_type": "markdown",
   "metadata": {
    "tags": [
     "written"
    ]
   },
   "source": [
    "## Zip code\n",
    "\n",
    "Next, let's  explore some of the variables in the business table. We begin by examining the postal code.\n",
    "\n",
    "### Question 3\n",
    "\n",
    "#### Question 3a\n",
    "How are the zip code values stored in python (i.e. data type)?\n",
    "\n",
    "To answer this you might want to examine a particular entry."
   ]
  },
  {
   "cell_type": "code",
   "execution_count": 13,
   "metadata": {
    "tags": [
     "solution"
    ]
   },
   "outputs": [],
   "source": [
    "sample_zip_code = bus.loc[0, 'postal_code']"
   ]
  },
  {
   "cell_type": "code",
   "execution_count": 14,
   "metadata": {},
   "outputs": [],
   "source": [
    "zip_code_data_type = type(sample_zip_code)"
   ]
  },
  {
   "cell_type": "code",
   "execution_count": 15,
   "metadata": {},
   "outputs": [
    {
     "name": "stdout",
     "output_type": "stream",
     "text": [
      "Data type of zip code values: <class 'str'>\n"
     ]
    }
   ],
   "source": [
    "print(\"Data type of zip code values:\", zip_code_data_type)"
   ]
  },
  {
   "cell_type": "markdown",
   "metadata": {},
   "source": [
    "#### Question 3b\n",
    "\n",
    "What are the unique values of postal_code?"
   ]
  },
  {
   "cell_type": "code",
   "execution_count": 16,
   "metadata": {
    "scrolled": false
   },
   "outputs": [],
   "source": [
    "unique_zip_codes = bus['postal_code'].unique()"
   ]
  },
  {
   "cell_type": "code",
   "execution_count": 17,
   "metadata": {},
   "outputs": [
    {
     "name": "stdout",
     "output_type": "stream",
     "text": [
      "Unique values of postal_code: ['94104' '94109' '94133' '94110' '94122' '94103' '94115' '94131' '94111'\n",
      " '94117' '94107' '94108' '94102' '94132' '94105' '94134' '94124' '94116'\n",
      " '94121' '94118' '94112' '94123' '94114' '94127' '941102019' '941' '94545'\n",
      " '94066' '941033148' nan '94158' '95105' '94013' '94130' 'CA' '92672'\n",
      " '94120' '94143' '94609' '94101' '00000' '94188' '94621' '94014' '94129'\n",
      " '94602' 'Ca']\n"
     ]
    }
   ],
   "source": [
    "print(\"Unique values of postal_code:\", unique_zip_codes)"
   ]
  },
  {
   "cell_type": "markdown",
   "metadata": {},
   "source": [
    "#### Question 3c\n",
    "\n",
    "Let's say we decide to exclude the businesses that have no zipcode for our analysis (which might include food trucks for example).  Use the list of valid 5-digit zip codes below to create a new dataframe called bus_valid, with only businesses whose postal_codes show up in this list of valid zipcodes. How many businesses are there in this new dataframe?"
   ]
  },
  {
   "cell_type": "code",
   "execution_count": 18,
   "metadata": {},
   "outputs": [],
   "source": [
    "validZip = [\"94102\", \"94103\", \"94104\", \"94105\", \"94107\", \"94108\",\n",
    "            \"94109\", \"94110\", \"94111\", \"94112\", \"94114\", \"94115\",\n",
    "            \"94116\", \"94117\", \"94118\", \"94121\", \"94122\", \"94123\", \n",
    "            \"94124\", \"94127\", \"94131\", \"94132\", \"94133\", \"94134\"]"
   ]
  },
  {
   "cell_type": "code",
   "execution_count": 19,
   "metadata": {},
   "outputs": [],
   "source": [
    "vb = bus[bus['postal_code'].isin(validZip)]"
   ]
  },
  {
   "cell_type": "code",
   "execution_count": null,
   "metadata": {},
   "outputs": [],
   "source": [
    "#to filter the original dataframe ('bus')to only include the rows where 'postal_code' column matches any of the valid zip codes provided, 'isin()' method will be used to check list of valid zip codes. "
   ]
  },
  {
   "cell_type": "code",
   "execution_count": 20,
   "metadata": {},
   "outputs": [],
   "source": [
    "#list of valid 5-digit zip codes\n",
    "validZip = [\"94102\", \"94103\", \"94104\", \"94105\", \"94107\", \"94108\",\n",
    "            \"94109\", \"94110\", \"94111\", \"94112\", \"94114\", \"94115\",\n",
    "            \"94116\", \"94117\", \"94118\", \"94121\", \"94122\", \"94123\", \n",
    "            \"94124\", \"94127\", \"94131\", \"94132\", \"94133\", \"94134\"]"
   ]
  },
  {
   "cell_type": "code",
   "execution_count": 21,
   "metadata": {},
   "outputs": [],
   "source": [
    "bus_valid = bus[bus['postal_code'].isin(validZip)]"
   ]
  },
  {
   "cell_type": "code",
   "execution_count": 23,
   "metadata": {},
   "outputs": [
    {
     "name": "stdout",
     "output_type": "stream",
     "text": [
      "Number of businesses with valid zip codes in the new DataFrame 'bus_valid': 5999\n"
     ]
    }
   ],
   "source": [
    "num_bus_valid = bus_valid.shape[0]\n",
    "print(\"Number of businesses with valid zip codes in the new DataFrame 'bus_valid':\", num_bus_valid)\n"
   ]
  },
  {
   "cell_type": "code",
   "execution_count": null,
   "metadata": {},
   "outputs": [],
   "source": []
  },
  {
   "cell_type": "markdown",
   "metadata": {},
   "source": [
    "## Latitude and Longitude\n",
    "\n",
    "Another aspect of the data we want to consider is the prevalence of missing values. If many records have missing values then we might be concerned about whether the nonmissing values are representative of the population.\n",
    "\n",
    "### Question 4\n",
    " \n",
    "Consider the longitude and latitude in the business DataFrame. \n",
    "\n",
    "#### Question 4a\n",
    "\n",
    "How many businesses are missing longitude values, working with only the businesses that are in the list of valid zipcodes?"
   ]
  },
  {
   "cell_type": "code",
   "execution_count": 24,
   "metadata": {
    "tags": [
     "solution"
    ]
   },
   "outputs": [
    {
     "data": {
      "text/html": [
       "<div>\n",
       "<style scoped>\n",
       "    .dataframe tbody tr th:only-of-type {\n",
       "        vertical-align: middle;\n",
       "    }\n",
       "\n",
       "    .dataframe tbody tr th {\n",
       "        vertical-align: top;\n",
       "    }\n",
       "\n",
       "    .dataframe thead th {\n",
       "        text-align: right;\n",
       "    }\n",
       "</style>\n",
       "<table border=\"1\" class=\"dataframe\">\n",
       "  <thead>\n",
       "    <tr style=\"text-align: right;\">\n",
       "      <th></th>\n",
       "      <th>business_id</th>\n",
       "      <th>name</th>\n",
       "      <th>address</th>\n",
       "      <th>city</th>\n",
       "      <th>state</th>\n",
       "      <th>postal_code</th>\n",
       "      <th>latitude</th>\n",
       "      <th>longitude</th>\n",
       "      <th>phone_number</th>\n",
       "    </tr>\n",
       "  </thead>\n",
       "  <tbody>\n",
       "    <tr>\n",
       "      <th>200</th>\n",
       "      <td>821</td>\n",
       "      <td>LA SANTANECA</td>\n",
       "      <td>3781 MISSION ST</td>\n",
       "      <td>San Francisco</td>\n",
       "      <td>CA</td>\n",
       "      <td>94110</td>\n",
       "      <td>NaN</td>\n",
       "      <td>NaN</td>\n",
       "      <td>+14156481034</td>\n",
       "    </tr>\n",
       "    <tr>\n",
       "      <th>210</th>\n",
       "      <td>852</td>\n",
       "      <td>NEW HOLLYWOOD BAKERY &amp; RESTAURANT</td>\n",
       "      <td>652 PACIFIC AVE</td>\n",
       "      <td>San Francisco</td>\n",
       "      <td>CA</td>\n",
       "      <td>94133</td>\n",
       "      <td>NaN</td>\n",
       "      <td>NaN</td>\n",
       "      <td>+14153979919</td>\n",
       "    </tr>\n",
       "    <tr>\n",
       "      <th>760</th>\n",
       "      <td>2934</td>\n",
       "      <td>LOU'S FISH SHACK</td>\n",
       "      <td>300 JEFFERSON ST</td>\n",
       "      <td>San Francisco</td>\n",
       "      <td>CA</td>\n",
       "      <td>94133</td>\n",
       "      <td>NaN</td>\n",
       "      <td>NaN</td>\n",
       "      <td>+14157715687</td>\n",
       "    </tr>\n",
       "    <tr>\n",
       "      <th>826</th>\n",
       "      <td>3123</td>\n",
       "      <td>LES JOULINS</td>\n",
       "      <td>44 ELLIS ST</td>\n",
       "      <td>San Francisco</td>\n",
       "      <td>CA</td>\n",
       "      <td>94102</td>\n",
       "      <td>NaN</td>\n",
       "      <td>NaN</td>\n",
       "      <td>+14153975397</td>\n",
       "    </tr>\n",
       "    <tr>\n",
       "      <th>1100</th>\n",
       "      <td>4323</td>\n",
       "      <td>DIVA'S</td>\n",
       "      <td>1081 POST ST</td>\n",
       "      <td>San Francisco</td>\n",
       "      <td>CA</td>\n",
       "      <td>94109</td>\n",
       "      <td>NaN</td>\n",
       "      <td>NaN</td>\n",
       "      <td>+14154743482</td>\n",
       "    </tr>\n",
       "    <tr>\n",
       "      <th>...</th>\n",
       "      <td>...</td>\n",
       "      <td>...</td>\n",
       "      <td>...</td>\n",
       "      <td>...</td>\n",
       "      <td>...</td>\n",
       "      <td>...</td>\n",
       "      <td>...</td>\n",
       "      <td>...</td>\n",
       "      <td>...</td>\n",
       "    </tr>\n",
       "    <tr>\n",
       "      <th>6310</th>\n",
       "      <td>90234</td>\n",
       "      <td>ACCESS SFUSD THE ARC</td>\n",
       "      <td>1520 HOWARD ST</td>\n",
       "      <td>San Francisco</td>\n",
       "      <td>CA</td>\n",
       "      <td>94103</td>\n",
       "      <td>NaN</td>\n",
       "      <td>NaN</td>\n",
       "      <td>NaN</td>\n",
       "    </tr>\n",
       "    <tr>\n",
       "      <th>6311</th>\n",
       "      <td>90236</td>\n",
       "      <td>PHO DONG HUONG</td>\n",
       "      <td>667 MONTEREY BLVD</td>\n",
       "      <td>San Francisco</td>\n",
       "      <td>CA</td>\n",
       "      <td>94127</td>\n",
       "      <td>NaN</td>\n",
       "      <td>NaN</td>\n",
       "      <td>+14154945048</td>\n",
       "    </tr>\n",
       "    <tr>\n",
       "      <th>6312</th>\n",
       "      <td>90237</td>\n",
       "      <td>WIN'S RESTAURANT</td>\n",
       "      <td>3040 TARAVAL ST</td>\n",
       "      <td>San Francisco</td>\n",
       "      <td>CA</td>\n",
       "      <td>94116</td>\n",
       "      <td>NaN</td>\n",
       "      <td>NaN</td>\n",
       "      <td>+14158606036</td>\n",
       "    </tr>\n",
       "    <tr>\n",
       "      <th>6313</th>\n",
       "      <td>90238</td>\n",
       "      <td>USA POWER MARKET</td>\n",
       "      <td>1524 OCEAN AVE</td>\n",
       "      <td>San Francisco</td>\n",
       "      <td>CA</td>\n",
       "      <td>94112</td>\n",
       "      <td>NaN</td>\n",
       "      <td>NaN</td>\n",
       "      <td>+14153331878</td>\n",
       "    </tr>\n",
       "    <tr>\n",
       "      <th>6314</th>\n",
       "      <td>90239</td>\n",
       "      <td>ALBA RAY'S</td>\n",
       "      <td>2293 MISSION ST</td>\n",
       "      <td>San Francisco</td>\n",
       "      <td>CA</td>\n",
       "      <td>94110</td>\n",
       "      <td>NaN</td>\n",
       "      <td>NaN</td>\n",
       "      <td>+14158881393</td>\n",
       "    </tr>\n",
       "  </tbody>\n",
       "</table>\n",
       "<p>2483 rows × 9 columns</p>\n",
       "</div>"
      ],
      "text/plain": [
       "      business_id                               name             address  \\\n",
       "200           821                       LA SANTANECA    3781 MISSION ST    \n",
       "210           852  NEW HOLLYWOOD BAKERY & RESTAURANT    652 PACIFIC AVE    \n",
       "760          2934                   LOU'S FISH SHACK   300 JEFFERSON ST    \n",
       "826          3123                        LES JOULINS        44 ELLIS ST    \n",
       "1100         4323                             DIVA'S       1081 POST ST    \n",
       "...           ...                                ...                 ...   \n",
       "6310        90234               ACCESS SFUSD THE ARC     1520 HOWARD ST    \n",
       "6311        90236                     PHO DONG HUONG  667 MONTEREY BLVD    \n",
       "6312        90237                   WIN'S RESTAURANT    3040 TARAVAL ST    \n",
       "6313        90238                   USA POWER MARKET     1524 OCEAN AVE    \n",
       "6314        90239                         ALBA RAY'S    2293 MISSION ST    \n",
       "\n",
       "               city state postal_code  latitude  longitude  phone_number  \n",
       "200   San Francisco    CA       94110       NaN        NaN  +14156481034  \n",
       "210   San Francisco    CA       94133       NaN        NaN  +14153979919  \n",
       "760   San Francisco    CA       94133       NaN        NaN  +14157715687  \n",
       "826   San Francisco    CA       94102       NaN        NaN  +14153975397  \n",
       "1100  San Francisco    CA       94109       NaN        NaN  +14154743482  \n",
       "...             ...   ...         ...       ...        ...           ...  \n",
       "6310  San Francisco    CA       94103       NaN        NaN           NaN  \n",
       "6311  San Francisco    CA       94127       NaN        NaN  +14154945048  \n",
       "6312  San Francisco    CA       94116       NaN        NaN  +14158606036  \n",
       "6313  San Francisco    CA       94112       NaN        NaN  +14153331878  \n",
       "6314  San Francisco    CA       94110       NaN        NaN  +14158881393  \n",
       "\n",
       "[2483 rows x 9 columns]"
      ]
     },
     "execution_count": 24,
     "metadata": {},
     "output_type": "execute_result"
    }
   ],
   "source": [
    "vb[pd.isnull(vb['longitude'])]"
   ]
  },
  {
   "cell_type": "markdown",
   "metadata": {},
   "source": [
    "#### Question 4b\n",
    "\n",
    "Create a new dataframe with one row for each valid zipcode. The dataframe should include the following three columns:\n",
    "\n",
    "1. `postal_code`: Contains the zip codes in the `validZip` variable above.\n",
    "2. `null_lon`: The number of businesses in that zipcode with missing `longitude` values.\n",
    "3. `not_null_lon`: The number of businesses without missing `longitude` values."
   ]
  },
  {
   "cell_type": "code",
   "execution_count": 25,
   "metadata": {
    "scrolled": false
   },
   "outputs": [],
   "source": [
    "validZip = [\"94102\", \"94103\", \"94104\", \"94105\", \"94107\", \"94108\",\n",
    "            \"94109\", \"94110\", \"94111\", \"94112\", \"94114\", \"94115\",\n",
    "            \"94116\", \"94117\", \"94118\", \"94121\", \"94122\", \"94123\", \n",
    "            \"94124\", \"94127\", \"94131\", \"94132\", \"94133\", \"94134\"]"
   ]
  },
  {
   "cell_type": "code",
   "execution_count": 27,
   "metadata": {},
   "outputs": [],
   "source": [
    "vb = bus[bus['postal_code'].isin(validZip)]"
   ]
  },
  {
   "cell_type": "code",
   "execution_count": 28,
   "metadata": {},
   "outputs": [],
   "source": [
    "null_lon_counts = vb[vb['longitude'].isnull()].groupby('postal_code').size().reset_index(name='null_lon')\n"
   ]
  },
  {
   "cell_type": "code",
   "execution_count": 29,
   "metadata": {},
   "outputs": [],
   "source": [
    "not_null_lon_counts = vb[vb['longitude'].notnull()].groupby('postal_code').size().reset_index(name='not_null_lon')"
   ]
  },
  {
   "cell_type": "code",
   "execution_count": 30,
   "metadata": {},
   "outputs": [],
   "source": [
    "zip_lon_counts = pd.merge(null_lon_counts, not_null_lon_counts, on='postal_code', how='outer').fillna(0)"
   ]
  },
  {
   "cell_type": "code",
   "execution_count": 31,
   "metadata": {},
   "outputs": [],
   "source": [
    "zip_lon_counts.set_index('postal_code', inplace=True)"
   ]
  },
  {
   "cell_type": "code",
   "execution_count": 32,
   "metadata": {},
   "outputs": [
    {
     "name": "stdout",
     "output_type": "stream",
     "text": [
      "DataFrame with counts of missing and non-missing longitude values for each valid zipcode:\n",
      "             null_lon  not_null_lon\n",
      "postal_code                        \n",
      "94102             196           262\n",
      "94103             252           306\n",
      "94104              59            74\n",
      "94105             100           126\n",
      "94107             247           204\n",
      "94108              82           142\n",
      "94109             146           237\n",
      "94110             251           334\n",
      "94111             115           167\n",
      "94112              59           131\n",
      "94114             108           122\n",
      "94115              76           162\n",
      "94116              35            58\n",
      "94117              67           130\n",
      "94118             100           143\n",
      "94121              55           106\n",
      "94122             123           147\n",
      "94123              53           116\n",
      "94124              88            76\n",
      "94127              28            43\n",
      "94131              14            34\n",
      "94132              65            69\n",
      "94133             135           282\n",
      "94134              29            45\n"
     ]
    }
   ],
   "source": [
    "print(\"DataFrame with counts of missing and non-missing longitude values for each valid zipcode:\")\n",
    "print(zip_lon_counts)\n"
   ]
  },
  {
   "cell_type": "markdown",
   "metadata": {},
   "source": [
    "#### 4c. Do any zip codes appear to have more than their 'fair share' of missing longitude? \n",
    "\n",
    "To answer this, you will want to compute the proportion of missing longitude values for each zip code, and print the proportion missing longitude, and print the top five zipcodes in descending order of proportion missing postal_code.\n"
   ]
  },
  {
   "cell_type": "code",
   "execution_count": 18,
   "metadata": {},
   "outputs": [
    {
     "name": "stdout",
     "output_type": "stream",
     "text": [
      "Top five zip codes with the highest proportion of missing longitude values:\n",
      "             null_lon  not_null_lon  total_businesses  proportion_missing\n",
      "postal_code                                                              \n",
      "94107             247           204               451            0.547672\n",
      "94124              88            76               164            0.536585\n",
      "94132              65            69               134            0.485075\n",
      "94114             108           122               230            0.469565\n",
      "94122             123           147               270            0.455556\n"
     ]
    }
   ],
   "source": [
    "validZip = [\"94102\", \"94103\", \"94104\", \"94105\", \"94107\", \"94108\",\n",
    "            \"94109\", \"94110\", \"94111\", \"94112\", \"94114\", \"94115\",\n",
    "            \"94116\", \"94117\", \"94118\", \"94121\", \"94122\", \"94123\", \n",
    "            \"94124\", \"94127\", \"94131\", \"94132\", \"94133\", \"94134\"]\n",
    "\n",
    "vb = bus[bus['postal_code'].isin(validZip)]\n",
    "\n",
    "\n",
    "# counts of missing and non-missing longitude values for each valid zipcode\n",
    "null_lon_counts = vb[vb['longitude'].isnull()].groupby('postal_code').size().reset_index(name='null_lon')\n",
    "not_null_lon_counts = vb[vb['longitude'].notnull()].groupby('postal_code').size().reset_index(name='not_null_lon')\n",
    "\n",
    "# Merging the counts into a single dataframe\n",
    "zip_lon_counts = pd.merge(null_lon_counts, not_null_lon_counts, on='postal_code', how='outer').fillna(0)\n",
    "zip_lon_counts.set_index('postal_code', inplace=True)\n",
    "\n",
    "#total number of businesses for each zip code\n",
    "zip_lon_counts['total_businesses'] = zip_lon_counts['null_lon'] + zip_lon_counts['not_null_lon']\n",
    "\n",
    "#proportion of missing longitude values for each zip code\n",
    "zip_lon_counts['proportion_missing'] = zip_lon_counts['null_lon'] / zip_lon_counts['total_businesses']\n",
    "\n",
    "# zip codes based on the proportion of missing longitude values\n",
    "sorted_zip_lon_counts = zip_lon_counts.sort_values(by='proportion_missing', ascending=False)\n",
    "\n",
    "\n",
    "print(\"Top five zip codes with the highest proportion of missing longitude values:\")\n",
    "print(sorted_zip_lon_counts.head())"
   ]
  },
  {
   "cell_type": "markdown",
   "metadata": {},
   "source": [
    "# Investigate the inspection data\n",
    "\n",
    "Let's now turn to the inspection DataFrame. Earlier, we found that `ins` has 4 columns, these are named `business_id`, `score`, `date` and `type`.  In this section, we determine the granularity of `ins` and investigate the kinds of information provided for the inspections. \n",
    "\n",
    "### Question 5\n",
    "\n",
    "#### Question 5a\n",
    "As with the business data, assess whether there is one inspection record for each business, by counting how many rows are in the data and how many unique businesses there are in the data. If they are exactly the same number, it means there is only one inspection per business, clearly."
   ]
  },
  {
   "cell_type": "code",
   "execution_count": 24,
   "metadata": {
    "tags": [
     "solution"
    ]
   },
   "outputs": [
    {
     "name": "stdout",
     "output_type": "stream",
     "text": [
      "Number of inspection records: 15430\n",
      "Number of unique businesses: 5730\n",
      "There is more than one inspection record for some businesses.\n"
     ]
    }
   ],
   "source": [
    "num_inspection_records = ins.shape[0]\n",
    "\n",
    "# number of unique businesses in the inspection data\n",
    "num_unique_businesses = ins['business_id'].nunique()\n",
    "\n",
    "print(\"Number of inspection records:\", num_inspection_records)\n",
    "print(\"Number of unique businesses:\", num_unique_businesses)\n",
    "\n",
    "# To verify number of inspection records is equal to the number of unique businesses\n",
    "if num_inspection_records == num_unique_businesses:\n",
    "    print(\"There is one inspection record for each business.\")\n",
    "else:\n",
    "    print(\"There is more than one inspection record for some businesses.\")"
   ]
  },
  {
   "cell_type": "markdown",
   "metadata": {},
   "source": [
    "#### Question 5b\n",
    "\n",
    "What values does `type` take on? How many occurrences of each value is in the DataFrame? Create a new dataframe named `ins2` by copying `ins` and keeping only records with values of `type` that occur more than 10 times in the original table. In other words, eliminate records that have values of `type` that occur rarely (< 10 times). Check the result to make sure rare types are eliminated."
   ]
  },
  {
   "cell_type": "code",
   "execution_count": 28,
   "metadata": {
    "tags": [
     "solution",
     "written"
    ]
   },
   "outputs": [
    {
     "name": "stdout",
     "output_type": "stream",
     "text": [
      "Occurrences of each value in the 'type' column:\n",
      "type\n",
      "routine      15429\n",
      "complaint        1\n",
      "Name: count, dtype: int64\n",
      "\n",
      "Number of unique values in 'type' column after filtering: 1\n",
      "Occurrences of each value in the 'type' column after filtering:\n",
      "type\n",
      "routine    15429\n",
      "Name: count, dtype: int64\n"
     ]
    }
   ],
   "source": [
    "# Unique values in \"type\" column \n",
    "type_counts = ins['type'].value_counts()\n",
    "\n",
    "\n",
    "print(\"Occurrences of each value in the 'type' column:\")\n",
    "print(type_counts)\n",
    "\n",
    "# To filter out records with values of \"type\" that occur rarely (< 10 times)\n",
    "rare_types = type_counts[type_counts < 10].index\n",
    "ins2 = ins[~ins['type'].isin(rare_types)]\n",
    "\n",
    "# Verifying if rare types are eliminated\n",
    "print(\"\\nNumber of unique values in 'type' column after filtering:\", ins2['type'].nunique())\n",
    "print(\"Occurrences of each value in the 'type' column after filtering:\")\n",
    "print(ins2['type'].value_counts())\n"
   ]
  },
  {
   "cell_type": "code",
   "execution_count": null,
   "metadata": {},
   "outputs": [],
   "source": []
  },
  {
   "cell_type": "markdown",
   "metadata": {},
   "source": [
    "#### Question 5c\n",
    "\n",
    "Since the data was stored in a .csv file, the dates are formatted as strings such as `20160503`. Once we read in the data, we would like to have dates in an appropriate format for analysis. Add a new column called `year` by capturing the first four characters of the date column. \n",
    "\n",
    "Hint: we have seen multiple ways of doing this in class, includings `str` operations, `lambda` functions, `datetime` operations, and others. Choose the method that works best for you :)"
   ]
  },
  {
   "cell_type": "code",
   "execution_count": 39,
   "metadata": {},
   "outputs": [
    {
     "name": "stdout",
     "output_type": "stream",
     "text": [
      "   business_id  score      date     type  year\n",
      "0           10     82  20160503  routine  2016\n",
      "1           10     94  20140729  routine  2014\n",
      "2           10     92  20140114  routine  2014\n",
      "3           19     94  20160513  routine  2016\n",
      "4           19     94  20141110  routine  2014\n"
     ]
    }
   ],
   "source": [
    "# Converting 'date' column to string type\n",
    "ins['date'] = ins['date'].astype(str)\n",
    "\n",
    "# New column 'year'to capture the first four characters of the 'date' column\n",
    "ins['year'] = ins['date'].str[:4]\n",
    "\n",
    "print(ins.head())"
   ]
  },
  {
   "cell_type": "markdown",
   "metadata": {
    "tags": [
     "written"
    ]
   },
   "source": [
    "#### Question 5d\n",
    "\n",
    "What range of years is covered in this data set? Are there roughly same number of inspections each year? Try dropping records for any years with less than 50 inspections and store the result in a new dataframe named `ins3`."
   ]
  },
  {
   "cell_type": "code",
   "execution_count": 41,
   "metadata": {
    "scrolled": true,
    "tags": [
     "solution",
     "written"
    ]
   },
   "outputs": [
    {
     "name": "stdout",
     "output_type": "stream",
     "text": [
      "Range of years covered: 2013 - 2016\n",
      "\n",
      "Number of inspections each year:\n",
      " year\n",
      "2013      38\n",
      "2014    5629\n",
      "2015    3923\n",
      "2016    5840\n",
      "Name: count, dtype: int64\n",
      "\n",
      "DataFrame 'ins3' after dropping records for years with less than 50 inspections:\n",
      "   business_id  score      date     type  year\n",
      "0           10     82  20160503  routine  2016\n",
      "1           10     94  20140729  routine  2014\n",
      "2           10     92  20140114  routine  2014\n",
      "3           19     94  20160513  routine  2016\n",
      "4           19     94  20141110  routine  2014\n"
     ]
    }
   ],
   "source": [
    "# looking for range of years covered in the dataset\n",
    "min_year = ins['year'].min()\n",
    "max_year = ins['year'].max()\n",
    "print(\"Range of years covered:\", min_year, \"-\", max_year)\n",
    "\n",
    "# number of inspections each year\n",
    "inspection_counts_per_year = ins['year'].value_counts().sort_index()\n",
    "print(\"\\nNumber of inspections each year:\\n\", inspection_counts_per_year)\n",
    "\n",
    "# Droping records for any years with less than 50 inspections\n",
    "ins3 = ins.groupby('year').filter(lambda x: len(x) >= 50)\n",
    "\n",
    "# Display the updated DataFrame with the dropped records\n",
    "print(\"\\nDataFrame 'ins3' after dropping records for years with less than 50 inspections:\")\n",
    "print(ins3.head())"
   ]
  },
  {
   "cell_type": "code",
   "execution_count": null,
   "metadata": {},
   "outputs": [],
   "source": []
  },
  {
   "cell_type": "markdown",
   "metadata": {},
   "source": [
    "Let's examine only the inspections for one year: 2016. This puts businesses on a more equal footing because [inspection guidelines](https://www.sfdph.org/dph/eh/Food/Inspections.asp) generally refer to how many inspections should occur in a given year."
   ]
  },
  {
   "cell_type": "code",
   "execution_count": 42,
   "metadata": {},
   "outputs": [
    {
     "name": "stdout",
     "output_type": "stream",
     "text": [
      "    business_id  score      date     type  year\n",
      "0            10     82  20160503  routine  2016\n",
      "3            19     94  20160513  routine  2016\n",
      "6            24     98  20161005  routine  2016\n",
      "7            24     96  20160311  routine  2016\n",
      "10           31     84  20160816  routine  2016\n"
     ]
    }
   ],
   "source": [
    "# Filtering inspections for the year 2016\n",
    "ins_2016 = ins[ins['year'] == '2016']\n",
    "\n",
    "\n",
    "print(ins_2016.head())"
   ]
  },
  {
   "cell_type": "markdown",
   "metadata": {},
   "source": [
    "### Question 6\n",
    "\n",
    "#### Question 6a\n",
    "\n",
    "Merge the business and 2016 inspections data, keeping all businesses regardless of whether they show up in the inspections file. Show the first several rows of the resulting dataframe."
   ]
  },
  {
   "cell_type": "code",
   "execution_count": 46,
   "metadata": {
    "scrolled": true
   },
   "outputs": [
    {
     "name": "stdout",
     "output_type": "stream",
     "text": [
      "   business_id                                name  \\\n",
      "0           10                    TIRAMISU KITCHEN   \n",
      "1           19               NRGIZE LIFESTYLE CAFE   \n",
      "2           24  OMNI S.F. HOTEL - 2ND FLOOR PANTRY   \n",
      "3           24  OMNI S.F. HOTEL - 2ND FLOOR PANTRY   \n",
      "4           31      NORMAN'S ICE CREAM AND FREEZES   \n",
      "\n",
      "                         address           city state postal_code   latitude  \\\n",
      "0                  033 BELDEN PL  San Francisco    CA       94104  37.791116   \n",
      "1   1200 VAN NESS AVE, 3RD FLOOR  San Francisco    CA       94109  37.786848   \n",
      "2  500 CALIFORNIA ST, 2ND  FLOOR  San Francisco    CA       94104  37.792888   \n",
      "3  500 CALIFORNIA ST, 2ND  FLOOR  San Francisco    CA       94104  37.792888   \n",
      "4           2801 LEAVENWORTH ST   San Francisco    CA       94133  37.807155   \n",
      "\n",
      "    longitude  phone_number  score      date     type  year  \n",
      "0 -122.403816  +14154217044   82.0  20160503  routine  2016  \n",
      "1 -122.421547  +14157763262   94.0  20160513  routine  2016  \n",
      "2 -122.403135  +14156779494   98.0  20161005  routine  2016  \n",
      "3 -122.403135  +14156779494   96.0  20160311  routine  2016  \n",
      "4 -122.419004           NaN   84.0  20160816  routine  2016  \n"
     ]
    }
   ],
   "source": [
    "# To merge business and 2016 inspections data\n",
    "bus_ins_2016 = pd.merge(bus, ins_2016, on='business_id', how='left')\n",
    "\n",
    "#pd.merge() function to dataframs\n",
    "\n",
    "\n",
    "print(bus_ins_2016.head())\n"
   ]
  },
  {
   "cell_type": "markdown",
   "metadata": {},
   "source": [
    "#### Question 6b\n",
    "Print the 20 lowest rated businesses names, their addresses, and their ratings."
   ]
  },
  {
   "cell_type": "code",
   "execution_count": 47,
   "metadata": {
    "scrolled": true
   },
   "outputs": [
    {
     "name": "stdout",
     "output_type": "stream",
     "text": [
      "                             name              address  score\n",
      "4892      GOLDEN RIVER RESTAURANT     5827 GEARY BLVD    52.0\n",
      "7325                    POKI TIME     2101 LOMBARD ST    55.0\n",
      "6281                 CRAZY PEPPER   2257 SAN JOSE AVE    55.0\n",
      "4873                   UNCLE CAFE       65 WAVERLY PL    55.0\n",
      "3008             HING WANG BAKERY        339 JUDAH ST    56.0\n",
      "5627                   GOLDEN WOK   295 B ORIZABA AVE    56.0\n",
      "5383                   TOP'S CAFE  2460 SAN BRUNO AVE    57.0\n",
      "6067    L & G VIETNAMESE SANDWICH         602 EDDY ST    57.0\n",
      "836                  RED A BAKERY      634 CLEMENT ST    57.0\n",
      "4209      SAN TUNG RESTAURANT LLC      1031 IRVING ST    57.0\n",
      "549           MA'S DIM SUM & CAFE      1315 POWELL ST    57.0\n",
      "4903  NEW GARDEN RESTAURANT, INC.       716 KEARNY ST    57.0\n",
      "6645    KOBANI MEDITERANEAN GRILL       3242 SCOTT ST    58.0\n",
      "624           JOANIE'S DINER INC.   1329 COLUMBUS AVE    59.0\n",
      "6938         PAK NAM THAI CUISINE       655 LARKIN ST    59.0\n",
      "3563                  JADE GARDEN      3608 BALBOA ST    59.0\n",
      "4234                        ITHAI         720 POST ST    59.0\n",
      "6151          VALLARTA'S TACO BAR     2022 MISSION ST    60.0\n",
      "4850             HONG KONG LOUNGE     5322 GEARY BLVD    60.0\n",
      "5013                 WOLFES LUNCH        1220 16TH ST    60.0\n"
     ]
    }
   ],
   "source": [
    "lowest_rated = bus_ins_2016[['name', 'address', 'score']].sort_values(by='score').head(20)\n",
    "print(lowest_rated)"
   ]
  },
  {
   "cell_type": "markdown",
   "metadata": {},
   "source": [
    "## Done!\n",
    "\n",
    "Now commit this notebook to your `hw3_submissions` branch, push it to your GitHub repo, and open a PR!"
   ]
  },
  {
   "cell_type": "code",
   "execution_count": null,
   "metadata": {},
   "outputs": [],
   "source": []
  }
 ],
 "metadata": {
  "anaconda-cloud": {},
  "kernelspec": {
   "display_name": "Python 3 (ipykernel)",
   "language": "python",
   "name": "python3"
  },
  "language_info": {
   "codemirror_mode": {
    "name": "ipython",
    "version": 3
   },
   "file_extension": ".py",
   "mimetype": "text/x-python",
   "name": "python",
   "nbconvert_exporter": "python",
   "pygments_lexer": "ipython3",
   "version": "3.11.5"
  },
  "toc": {
   "base_numbering": 1,
   "nav_menu": {},
   "number_sections": false,
   "sideBar": true,
   "skip_h1_title": false,
   "title_cell": "Table of Contents",
   "title_sidebar": "Contents",
   "toc_cell": false,
   "toc_position": {},
   "toc_section_display": true,
   "toc_window_display": false
  }
 },
 "nbformat": 4,
 "nbformat_minor": 2
}
