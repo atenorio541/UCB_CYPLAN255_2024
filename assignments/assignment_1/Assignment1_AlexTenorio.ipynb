{
 "cells": [
  {
   "cell_type": "markdown",
   "metadata": {},
   "source": [
    "## Assignment 1 | Data Types\n",
    "\n",
    "Add code cells as needed for your answers. "
   ]
  },
  {
   "cell_type": "markdown",
   "metadata": {},
   "source": [
    "### Exercise 1: Manipulating Lists"
   ]
  },
  {
   "cell_type": "markdown",
   "metadata": {},
   "source": [
    "Create a list containing the numbers 10, 20, and 30. Store your list as a variable named `a`. Then create a second list containing the numbers 30, 60, and 90. Call this this `b`."
   ]
  },
  {
   "cell_type": "code",
   "execution_count": 2,
   "metadata": {},
   "outputs": [],
   "source": [
    "# list containing the numbers 10, 20, and 30\n",
    "a = [10, 20, 30]\n",
    "\n",
    "# list containing the numbers 30, 60, and 90 \n",
    "b = [30, 60, 90]"
   ]
  },
  {
   "cell_type": "code",
   "execution_count": 3,
   "metadata": {},
   "outputs": [
    {
     "name": "stdout",
     "output_type": "stream",
     "text": [
      "List a: [10, 20, 30]\n"
     ]
    }
   ],
   "source": [
    "print(\"List a:\", a)"
   ]
  },
  {
   "cell_type": "code",
   "execution_count": 4,
   "metadata": {},
   "outputs": [
    {
     "name": "stdout",
     "output_type": "stream",
     "text": [
      "List b: [30, 60, 90]\n"
     ]
    }
   ],
   "source": [
    "print (\"List b:\", b)"
   ]
  },
  {
   "cell_type": "markdown",
   "metadata": {},
   "source": [
    "In the cells below, write Python expressions to create the following four outputs by combining `a` and `b` in creative ways:\n",
    "\n",
    "1. [[10, 20, 30], [30, 60, 90]]\n",
    "\n",
    "2. [10, 20, 30, 30, 60, 90]\n",
    "\n",
    "3. [10, 20, 60, 90]\n",
    "\n",
    "4. [20, 40, 60]"
   ]
  },
  {
   "cell_type": "code",
   "execution_count": 5,
   "metadata": {},
   "outputs": [],
   "source": [
    "output1 = [a, b]"
   ]
  },
  {
   "cell_type": "code",
   "execution_count": 15,
   "metadata": {},
   "outputs": [
    {
     "name": "stdout",
     "output_type": "stream",
     "text": [
      "Output 1: [[10, 20, 30], [30, 60, 90]]\n"
     ]
    }
   ],
   "source": [
    "print (\"Output 1:\", output1)"
   ]
  },
  {
   "cell_type": "code",
   "execution_count": 7,
   "metadata": {},
   "outputs": [],
   "source": [
    "output2 = a + b"
   ]
  },
  {
   "cell_type": "code",
   "execution_count": 14,
   "metadata": {},
   "outputs": [
    {
     "name": "stdout",
     "output_type": "stream",
     "text": [
      "Output 2: [10, 20, 30, 30, 60, 90]\n"
     ]
    }
   ],
   "source": [
    "print (\"Output 2:\", output2)"
   ]
  },
  {
   "cell_type": "code",
   "execution_count": 11,
   "metadata": {},
   "outputs": [],
   "source": [
    "output3 = [a[0], a[1],b[1], b[2]]"
   ]
  },
  {
   "cell_type": "code",
   "execution_count": 12,
   "metadata": {},
   "outputs": [
    {
     "name": "stdout",
     "output_type": "stream",
     "text": [
      "Output 3: [10, 20, 60, 90]\n"
     ]
    }
   ],
   "source": [
    "print (\"Output 3:\", output3)"
   ]
  },
  {
   "cell_type": "code",
   "execution_count": 16,
   "metadata": {},
   "outputs": [
    {
     "name": "stdout",
     "output_type": "stream",
     "text": [
      "Output 4: [40, 120, 180]\n"
     ]
    }
   ],
   "source": [
    "output4 = [a[1]*2, b[1]*2, b[2]*2]\n",
    "print(\"Output 4:\", output4)"
   ]
  },
  {
   "cell_type": "markdown",
   "metadata": {},
   "source": [
    "### Exercise 2. Working with Lists\n",
    "\n",
    "Create a list that contains the sums of each of the lists in G. \n",
    "\n",
    "`G = [[13, 9, 8], [14, 6, 12], [10, 13, 11], [7, 18, 9]]`\n",
    "\n",
    "Your output should look like:\n",
    "\n",
    "- `[30, 32, 34, 34]`\n",
    "\n",
    "Hint: try computing the sum for just one list first."
   ]
  },
  {
   "cell_type": "code",
   "execution_count": 17,
   "metadata": {},
   "outputs": [],
   "source": [
    "# list\n",
    "G = [[13, 9, 8], [14, 6, 12], [10,13,11], [7, 18, 9]]"
   ]
  },
  {
   "cell_type": "code",
   "execution_count": 20,
   "metadata": {},
   "outputs": [
    {
     "name": "stdout",
     "output_type": "stream",
     "text": [
      "[30, 32, 34, 34]\n"
     ]
    }
   ],
   "source": [
    "sums_list = []\n",
    "\n",
    "for sublist in G: \n",
    "    sublist_sum = sum(sublist)\n",
    "    sums_list.append(sublist_sum)\n",
    "print(sums_list)"
   ]
  },
  {
   "cell_type": "markdown",
   "metadata": {},
   "source": [
    "### Exercise 3: String Manipulation\n",
    "\n",
    "Turn the string below into 'all good countrymen' using the minimum amount of code, using only the methods we've covered so far. A couple of lines of code should do the trick.  Note: this requires string and list methods."
   ]
  },
  {
   "cell_type": "code",
   "execution_count": 23,
   "metadata": {},
   "outputs": [],
   "source": [
    "s = 'Now is the time for all good men to come to the aid of their country!'"
   ]
  },
  {
   "cell_type": "code",
   "execution_count": 38,
   "metadata": {},
   "outputs": [],
   "source": [
    "words = s.split()"
   ]
  },
  {
   "cell_type": "code",
   "execution_count": 61,
   "metadata": {},
   "outputs": [
    {
     "name": "stdout",
     "output_type": "stream",
     "text": [
      "all good countrymen\n"
     ]
    }
   ],
   "source": [
    "new_string = ' '.join(words[5:7]+ [words[-1].strip('!')+ words[-9]])\n",
    "print(new_string)"
   ]
  },
  {
   "cell_type": "markdown",
   "metadata": {},
   "source": [
    "### Exercise 4: String Manipulation and Type Conversion\n",
    "\n",
    "Define a variable `a = \"Sarah earns $96500 in a year\"`. Then maniuplate the value of `a` in order to print the following string: `Sarah earns $8041.67 monthly`\n",
    "\n",
    "Start by doing it in several steps and then combine them one step at a time until you can do it in one line."
   ]
  },
  {
   "cell_type": "code",
   "execution_count": 1,
   "metadata": {},
   "outputs": [],
   "source": [
    "# defining the variable\n",
    "a = \"Sarah earns $96500 in a year\""
   ]
  },
  {
   "cell_type": "code",
   "execution_count": 2,
   "metadata": {},
   "outputs": [],
   "source": [
    "numeric_value = int(a.split('$')[1].split()[0])"
   ]
  },
  {
   "cell_type": "code",
   "execution_count": 3,
   "metadata": {},
   "outputs": [],
   "source": [
    "monthly_income = numeric_value / 12"
   ]
  },
  {
   "cell_type": "code",
   "execution_count": 4,
   "metadata": {},
   "outputs": [],
   "source": [
    "formatted_monthly_income = \"${:.2f}\".format(monthly_income)"
   ]
  },
  {
   "cell_type": "code",
   "execution_count": 5,
   "metadata": {},
   "outputs": [],
   "source": [
    "final_string = a.split()[0] + \" earns \" + formatted_monthly_income + \" monthly\""
   ]
  },
  {
   "cell_type": "code",
   "execution_count": 6,
   "metadata": {},
   "outputs": [
    {
     "name": "stdout",
     "output_type": "stream",
     "text": [
      "Sarah earns $8041.67 monthly\n"
     ]
    }
   ],
   "source": [
    "print(final_string)"
   ]
  },
  {
   "cell_type": "markdown",
   "metadata": {},
   "source": [
    "### Exercise 5: Create and Query a Dictionary on State Demographics\n",
    "\n",
    "Create two dictionaries, one for California and one for New York state, based on the data in the following table:\n",
    "\n",
    "| States | Pop Density | Prop White | Prop Afr Amer | Prop Asian | Prop Other | Owners | Renters |\n",
    "| --- | ---: | ---: | ---: | ---: | ---: | ---: | ---: |\n",
    "| CA | 239.1 | 0.57  | 0.06 | 0.13 | 0.22 | 7035371 | 5542127 |\n",
    "| NY | 411.2 | 0.65  | 0.15 | 0.07 | 0.22 | 3897837 | 3419918 |\n",
    "\n",
    "Each dictionary should have the following keys and value types: `name: (string)` , `population density: (float)`, `race (dict)`, `tenure: (dict)`. \n",
    "\n",
    "1.  Create one dictionary called CA and one called NY that contain dictionaries containing name, pop_density, race as a dictionary, and tenure for California and New York.  Now combine these into a dictionary called \"states\", making it a dictionary of dictionaries, or a nested dictionary.\n",
    "\n",
    "1.  Check if Texas is in our state dictionary (we know it isn't but show us).\n",
    "\n",
    "1. Print the White population in New York as a percentage\n",
    "\n",
    "1. Assume there was a typo in the data, and update the White population fraction of NY to 0.64. Verify that it was updated by printing the percentage again.\n",
    "\n",
    "1. Print the percentage of households that are renters in California, with two decimal places"
   ]
  },
  {
   "cell_type": "code",
   "execution_count": 26,
   "metadata": {},
   "outputs": [],
   "source": [
    "    CA = {\n",
    "    'name': 'California',\n",
    "    'pop_density': 239.1,\n",
    "    'race': {\n",
    "        'White': 0.57,\n",
    "        'African American': 0.06,\n",
    "        'Asian': 0.13,\n",
    "        'Other': 0.22\n",
    "    },\n",
    "    'tenure': {\n",
    "        'Owners': 7035371,\n",
    "        'Renters': 5542127\n",
    "    }\n",
    "}\n",
    "\n",
    "NY = {\n",
    "    'name': 'New York',\n",
    "    'pop_density': 411.2,\n",
    "    'race': {\n",
    "        'White': 0.65,\n",
    "        'African American': 0.15,\n",
    "        'Asian': 0.07,\n",
    "        'Other': 0.22\n",
    "    },\n",
    "    'tenure': {\n",
    "        'Owners': 3897837,\n",
    "        'Renters': 3419918\n",
    "    }\n",
    "}\n"
   ]
  },
  {
   "cell_type": "code",
   "execution_count": 22,
   "metadata": {},
   "outputs": [],
   "source": [
    "states = {\n",
    "    'CA': CA,\n",
    "    'NY': NY\n",
    "}"
   ]
  },
  {
   "cell_type": "code",
   "execution_count": 28,
   "metadata": {},
   "outputs": [
    {
     "name": "stdout",
     "output_type": "stream",
     "text": [
      "Is Texas in state dictionary?\n",
      "False\n"
     ]
    }
   ],
   "source": [
    "print(\"Is Texas in state dictionary?\")\n",
    "print('TX' in states)"
   ]
  },
  {
   "cell_type": "code",
   "execution_count": 38,
   "metadata": {},
   "outputs": [
    {
     "name": "stdout",
     "output_type": "stream",
     "text": [
      "The White population in New York is 64.00%\n"
     ]
    }
   ],
   "source": [
    "ny_white_percentage = NY['race']['White'] * 100\n",
    "print(f\"The White population in New York is {ny_white_percentage:.2f}%\")\n"
   ]
  },
  {
   "cell_type": "code",
   "execution_count": 30,
   "metadata": {},
   "outputs": [],
   "source": [
    "NY['race']['White'] = 0.64"
   ]
  },
  {
   "cell_type": "code",
   "execution_count": 39,
   "metadata": {},
   "outputs": [
    {
     "name": "stdout",
     "output_type": "stream",
     "text": [
      "After the update, the White population in New York is now 64.00%\n"
     ]
    }
   ],
   "source": [
    "ny_white_percentage_updated = NY['race']['White'] * 100\n",
    "print(f\"After the update, the White population in New York is now {ny_white_percentage_updated:.2f}%\")\n"
   ]
  },
  {
   "cell_type": "code",
   "execution_count": 54,
   "metadata": {},
   "outputs": [
    {
     "name": "stdout",
     "output_type": "stream",
     "text": [
      "The percentage of households that are renters in California is 44.06%\n"
     ]
    }
   ],
   "source": [
    "ca_renters_percentage = (CA['tenure']['Renters'] / (CA['tenure']['Owners'] + CA['tenure']['Renters'])) * 100\n",
    "print(f\"The percentage of households that are renters in California is {ca_renters_percentage:.2f}%\")"
   ]
  },
  {
   "cell_type": "code",
   "execution_count": null,
   "metadata": {},
   "outputs": [],
   "source": []
  },
  {
   "cell_type": "code",
   "execution_count": null,
   "metadata": {},
   "outputs": [],
   "source": []
  },
  {
   "cell_type": "markdown",
   "metadata": {
    "collapsed": true
   },
   "source": [
    "### Exercise 6: Working with Numpy Arrays\n",
    "\n",
    "1. Create and print a 4 x 4 array named `a` with value 3 everywhere.\n",
    "\n",
    "1. Create and print a 4 x 4 array named `b` with elements drawn from a uniform random distribution \n",
    "\n",
    "1. Create and print array `c` by dividing a by b\n",
    "\n",
    "1. Compute and print the min, mean, max, median, and 90th percentile values of `c`\n",
    "\n",
    "1. Compute and print the sum of the second column in `c`"
   ]
  },
  {
   "cell_type": "code",
   "execution_count": 59,
   "metadata": {},
   "outputs": [],
   "source": [
    "import numpy as np"
   ]
  },
  {
   "cell_type": "code",
   "execution_count": 60,
   "metadata": {},
   "outputs": [
    {
     "name": "stdout",
     "output_type": "stream",
     "text": [
      "Array a:\n",
      "[[3 3 3 3]\n",
      " [3 3 3 3]\n",
      " [3 3 3 3]\n",
      " [3 3 3 3]]\n"
     ]
    }
   ],
   "source": [
    "a = np.full((4, 4), 3)\n",
    "print(\"Array a:\")\n",
    "print(a)"
   ]
  },
  {
   "cell_type": "code",
   "execution_count": 61,
   "metadata": {},
   "outputs": [
    {
     "name": "stdout",
     "output_type": "stream",
     "text": [
      "\n",
      "Array b:\n",
      "[[0.34582849 0.60938991 0.41546057 0.82087296]\n",
      " [0.69722422 0.15942327 0.13348468 0.8513435 ]\n",
      " [0.63012152 0.14093807 0.24462346 0.84642763]\n",
      " [0.67867485 0.21414796 0.49601143 0.74546115]]\n"
     ]
    }
   ],
   "source": [
    "b = np.random.rand(4, 4)\n",
    "print(\"\\nArray b:\")\n",
    "print(b)"
   ]
  },
  {
   "cell_type": "code",
   "execution_count": 62,
   "metadata": {},
   "outputs": [
    {
     "name": "stdout",
     "output_type": "stream",
     "text": [
      "\n",
      "Array c:\n",
      "[[ 8.67482029  4.92295644  7.22090189  3.65464591]\n",
      " [ 4.30277653 18.81783007 22.47448997  3.52384202]\n",
      " [ 4.76098642 21.28594556 12.2637463   3.54430773]\n",
      " [ 4.42037893 14.00900559  6.04824769  4.02435457]]\n"
     ]
    }
   ],
   "source": [
    "c = np.divide(a, b)\n",
    "print(\"\\nArray c:\")\n",
    "print(c)"
   ]
  },
  {
   "cell_type": "code",
   "execution_count": 63,
   "metadata": {},
   "outputs": [
    {
     "name": "stdout",
     "output_type": "stream",
     "text": [
      "\n",
      "Statistics of array c:\n",
      "Min: 3.5238420151079035, Mean: 8.99682724259036, Max: 22.474489970727173, Median: 5.485602060809478, 90th Percentile: 20.05188781363053\n"
     ]
    }
   ],
   "source": [
    "c_min = np.min(c)\n",
    "c_mean = np.mean(c)\n",
    "c_max = np.max(c)\n",
    "c_median = np.median(c)\n",
    "c_90th_percentile = np.percentile(c, 90)\n",
    "print(\"\\nStatistics of array c:\")\n",
    "print(f\"Min: {c_min}, Mean: {c_mean}, Max: {c_max}, Median: {c_median}, 90th Percentile: {c_90th_percentile}\")"
   ]
  },
  {
   "cell_type": "code",
   "execution_count": 64,
   "metadata": {},
   "outputs": [
    {
     "name": "stdout",
     "output_type": "stream",
     "text": [
      "\n",
      "Sum of the second column in array c: 59.03573765172488\n"
     ]
    }
   ],
   "source": [
    "c_second_column_sum = np.sum(c[:, 1])\n",
    "print(f\"\\nSum of the second column in array c: {c_second_column_sum}\")\n"
   ]
  },
  {
   "cell_type": "code",
   "execution_count": null,
   "metadata": {},
   "outputs": [],
   "source": []
  }
 ],
 "metadata": {
  "kernelspec": {
   "display_name": "Python 3 (ipykernel)",
   "language": "python",
   "name": "python3"
  },
  "language_info": {
   "codemirror_mode": {
    "name": "ipython",
    "version": 3
   },
   "file_extension": ".py",
   "mimetype": "text/x-python",
   "name": "python",
   "nbconvert_exporter": "python",
   "pygments_lexer": "ipython3",
   "version": "3.11.5"
  },
  "toc": {
   "base_numbering": 1,
   "nav_menu": {},
   "number_sections": false,
   "sideBar": true,
   "skip_h1_title": false,
   "title_cell": "Table of Contents",
   "title_sidebar": "Contents",
   "toc_cell": false,
   "toc_position": {},
   "toc_section_display": true,
   "toc_window_display": false
  }
 },
 "nbformat": 4,
 "nbformat_minor": 2
}
